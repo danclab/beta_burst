{
 "cells": [
  {
   "cell_type": "markdown",
   "id": "4e0f6b53",
   "metadata": {},
   "source": [
    "## Example of Principal Component Analysis with the waveforms\n",
    "\n",
    "This example builds on top of the previous tutorial."
   ]
  },
  {
   "cell_type": "code",
   "execution_count": 1,
   "id": "6f0cc8ab",
   "metadata": {},
   "outputs": [],
   "source": [
    "import requests\n",
    "import zipfile\n",
    "import os\n",
    "from matplotlib import pyplot as plt\n",
    "import numpy as np\n",
    "\n",
    "import mne\n",
    "from mne.channels import make_standard_montage\n",
    "from mne.io import read_raw_cnt\n",
    "\n",
    "import pandas as pd\n",
    "from matplotlib import ticker\n",
    "import matplotlib.pylab as plt\n",
    "from sklearn.decomposition import PCA\n",
    "from sklearn.preprocessing import RobustScaler\n",
    "from betaburst.detection.burst_detection import TfBursts "
   ]
  },
  {
   "cell_type": "markdown",
   "id": "f8c591df",
   "metadata": {},
   "source": [
    "#### This step is similar to what we have performed previously but now on all the channels. We won't download again the data"
   ]
  },
  {
   "cell_type": "markdown",
   "id": "0672dd94",
   "metadata": {},
   "source": [
    "## Download data from the Zhou dataset\n",
    "[1] Zhou B, Wu X, Lv Z, Zhang L, Guo X (2016) A Fully Automated Trial Selection Method for Optimization of Motor Imagery Based Brain-Computer Interface. PLoS ONE 11(9). https://doi.org/10.1371/journal.pone.0162657"
   ]
  },
  {
   "cell_type": "code",
   "execution_count": 2,
   "id": "bf5c52ba",
   "metadata": {},
   "outputs": [
    {
     "name": "stdout",
     "output_type": "stream",
     "text": [
      "File downloaded and extracted to zhou_data\n"
     ]
    }
   ],
   "source": [
    "data_path = \"https://ndownloader.figshare.com/files/3662952\"\n",
    "\n",
    "zip_file_path = \"zhou_data.zip\"\n",
    "extract_folder = \"zhou_data\"\n",
    "\n",
    "# Download the compressed archive\n",
    "response = requests.get(data_path)\n",
    "with open(zip_file_path, 'wb') as file:\n",
    "    file.write(response.content)\n",
    "\n",
    "# Decompress the archive in extract folder\n",
    "os.makedirs(extract_folder, exist_ok=True)\n",
    "with zipfile.ZipFile(zip_file_path, 'r') as zip_ref:\n",
    "    zip_ref.extractall(extract_folder)\n",
    "os.remove(zip_file_path)\n",
    "\n",
    "print(f\"File downloaded and extracted to {extract_folder}\")"
   ]
  },
  {
   "cell_type": "markdown",
   "id": "f2137541",
   "metadata": {},
   "source": [
    "### Read data and extract epochs using [MNE](https://mne.tools/dev/) toolbox\n",
    "We will load data only from a single subject and a single session."
   ]
  },
  {
   "cell_type": "code",
   "execution_count": 3,
   "id": "6a99cece",
   "metadata": {},
   "outputs": [
    {
     "name": "stderr",
     "output_type": "stream",
     "text": [
      "C:\\Users\\ludov\\AppData\\Local\\Temp\\ipykernel_296\\2373179691.py:4: RuntimeWarning: Could not define the number of bytes automatically. Defaulting to 2.\n",
      "  raw = read_raw_cnt(fname, preload=True, eog=[\"VEOU\", \"VEOL\"])\n"
     ]
    },
    {
     "name": "stdout",
     "output_type": "stream",
     "text": [
      "Reading 0 ... 227539  =      0.000 ...   910.156 secs...\n"
     ]
    }
   ],
   "source": [
    "subject = 2\n",
    "session = '1A'\n",
    "fname = f\".\\\\zhou_data\\\\data\\\\S{subject}_{session}.cnt\"\n",
    "raw = read_raw_cnt(fname, preload=True, eog=[\"VEOU\", \"VEOL\"])\n",
    "stim = raw.annotations.description.astype(np.dtype(\"<10U\"))\n",
    "stim[stim == \"1\"] = \"left_hand\"\n",
    "stim[stim == \"2\"] = \"right_hand\"\n",
    "stim[stim == \"3\"] = \"feet\"\n",
    "raw.annotations.description = stim\n",
    "raw.set_montage(make_standard_montage(\"standard_1005\"))\n",
    "fs = raw.info['sfreq']"
   ]
  },
  {
   "cell_type": "markdown",
   "id": "98ebfa71",
   "metadata": {},
   "source": [
    "#### Notch filtering to remove line noise artifacts"
   ]
  },
  {
   "cell_type": "code",
   "execution_count": 4,
   "id": "ed176b01",
   "metadata": {},
   "outputs": [
    {
     "name": "stdout",
     "output_type": "stream",
     "text": [
      "Filtering raw data in 1 contiguous segment\n",
      "Setting up band-stop filter from 49 - 51 Hz\n",
      "\n",
      "FIR filter parameters\n",
      "---------------------\n",
      "Designing a one-pass, zero-phase, non-causal bandstop filter:\n",
      "- Windowed time-domain design (firwin) method\n",
      "- Hamming window with 0.0194 passband ripple and 53 dB stopband attenuation\n",
      "- Lower passband edge: 49.38\n",
      "- Lower transition bandwidth: 0.50 Hz (-6 dB cutoff frequency: 49.12 Hz)\n",
      "- Upper passband edge: 50.62 Hz\n",
      "- Upper transition bandwidth: 0.50 Hz (-6 dB cutoff frequency: 50.88 Hz)\n",
      "- Filter length: 1651 samples (6.604 s)\n",
      "\n",
      "Filtering raw data in 1 contiguous segment\n",
      "Setting up low-pass filter at 1.2e+02 Hz\n",
      "\n",
      "FIR filter parameters\n",
      "---------------------\n",
      "Designing a one-pass, zero-phase, non-causal lowpass filter:\n",
      "- Windowed time-domain design (firwin) method\n",
      "- Hamming window with 0.0194 passband ripple and 53 dB stopband attenuation\n",
      "- Upper passband edge: 120.00 Hz\n",
      "- Upper transition bandwidth: 5.00 Hz (-6 dB cutoff frequency: 122.50 Hz)\n",
      "- Filter length: 165 samples (0.660 s)\n",
      "\n"
     ]
    },
    {
     "data": {
      "text/html": [
       "<details open>\n",
       "    <summary><strong>General</strong></summary>\n",
       "    <table class=\"table table-hover table-striped table-sm table-responsive small\">\n",
       "        <tr>\n",
       "            <th>Measurement date</th>\n",
       "            \n",
       "            <td>September 11, 2014  13:39:16 GMT</td>\n",
       "            \n",
       "        </tr>\n",
       "        <tr>\n",
       "            <th>Experimenter</th>\n",
       "            \n",
       "            <td>Unknown</td>\n",
       "            \n",
       "        </tr>\n",
       "        <tr>\n",
       "            <th>Participant</th>\n",
       "            \n",
       "            \n",
       "            \n",
       "        </tr>\n",
       "    </table>\n",
       "    </details>\n",
       "    <details open>\n",
       "        <summary><strong>Channels</strong></summary>\n",
       "        <table class=\"table table-hover table-striped table-sm table-responsive small\">\n",
       "            <tr>\n",
       "                <th>Digitized points</th>\n",
       "                \n",
       "                <td>17 points</td>\n",
       "                \n",
       "            </tr>\n",
       "            <tr>\n",
       "                <th>Good channels</th>\n",
       "                <td>2 EOG, 14 EEG</td>\n",
       "            </tr>\n",
       "            <tr>\n",
       "                <th>Bad channels</th>\n",
       "                <td>None</td>\n",
       "            </tr>\n",
       "            <tr>\n",
       "                <th>EOG channels</th>\n",
       "                <td>VEOU, VEOL</td>\n",
       "            </tr>\n",
       "            <tr>\n",
       "                <th>ECG channels</th>\n",
       "                <td>Not available</td>\n",
       "            </tr>\n",
       "        </table>\n",
       "        </details>\n",
       "        <details open>\n",
       "            <summary><strong>Data</strong></summary>\n",
       "            <table class=\"table table-hover table-striped table-sm table-responsive small\">\n",
       "                \n",
       "                <tr>\n",
       "                    <th>Sampling frequency</th>\n",
       "                    <td>250.00 Hz</td>\n",
       "                </tr>\n",
       "                \n",
       "                \n",
       "                <tr>\n",
       "                    <th>Highpass</th>\n",
       "                    <td>0.00 Hz</td>\n",
       "                </tr>\n",
       "                \n",
       "                \n",
       "                <tr>\n",
       "                    <th>Lowpass</th>\n",
       "                    <td>120.00 Hz</td>\n",
       "                </tr>\n",
       "                \n",
       "                \n",
       "                \n",
       "                <tr>\n",
       "                    <th>Filenames</th>\n",
       "                    <td>S2_1A.cnt</td>\n",
       "                </tr>\n",
       "                \n",
       "                \n",
       "                <tr>\n",
       "                    <th>Duration</th>\n",
       "                    <td>00:15:11 (HH:MM:SS)</td>\n",
       "                </tr>\n",
       "                \n",
       "            </table>\n",
       "            </details>"
      ],
      "text/plain": [
       "<RawCNT | S2_1A.cnt, 16 x 227540 (910.2 s), ~27.8 MB, data loaded>"
      ]
     },
     "execution_count": 4,
     "metadata": {},
     "output_type": "execute_result"
    }
   ],
   "source": [
    "raw.notch_filter(freqs=[50])\n",
    "raw.filter(l_freq = None, h_freq=120)"
   ]
  },
  {
   "cell_type": "markdown",
   "id": "0f6a0fb4",
   "metadata": {},
   "source": [
    "#### Create epochs"
   ]
  },
  {
   "cell_type": "code",
   "execution_count": 5,
   "id": "8395b567",
   "metadata": {},
   "outputs": [
    {
     "name": "stdout",
     "output_type": "stream",
     "text": [
      "Used Annotations descriptions: ['left_hand', 'right_hand']\n",
      "Not setting metadata\n",
      "50 matching events found\n",
      "Applying baseline correction (mode: mean)\n",
      "0 projection items activated\n",
      "Using data from preloaded Raw for 50 events and 2001 original time points ...\n",
      "0 bad epochs dropped\n",
      "NOTE: pick_channels() is a legacy function. New code should use inst.pick(...).\n",
      "<Epochs |  50 events (all good), -1 – 7 s, baseline -1 – 0 s, ~1.5 MB, data loaded,\n",
      " 'left_hand': 25\n",
      " 'right_hand': 25>\n"
     ]
    }
   ],
   "source": [
    "event_id = {'left_hand': 1, 'right_hand': 2}\n",
    "\n",
    "# Keep only left/right hand motor imagery trials\n",
    "events, _ = mne.events_from_annotations(raw, event_id=event_id)\n",
    "\n",
    "# Create the epochs object\n",
    "# Baseline period: -1.0 - 0.0s\n",
    "# Task period: 0.0 - 5.0s\n",
    "# Post-task period 5.0 - 7.0s\n",
    "tmin, tmax = -1, 7 \n",
    "epochs = mne.Epochs(raw, events, event_id=event_id, tmin=tmin, tmax=tmax,\n",
    "                    baseline=(-1, 0), preload=True)\n",
    "\n",
    "epochs.pick_channels(['C3', 'C4'])\n",
    "print(epochs)"
   ]
  },
  {
   "cell_type": "code",
   "execution_count": 6,
   "id": "a803e858",
   "metadata": {},
   "outputs": [],
   "source": [
    "times = epochs.times\n",
    "trials = epochs.get_data(copy=True)[:, :, :-1]\n",
    "fs = epochs.info['sfreq']"
   ]
  },
  {
   "cell_type": "code",
   "execution_count": 7,
   "id": "0693ed49",
   "metadata": {},
   "outputs": [
    {
     "name": "stdout",
     "output_type": "stream",
     "text": [
      "Extracting time frequency decomposition...\n"
     ]
    }
   ],
   "source": [
    "max_freq = 43\n",
    "freqs = np.linspace(1, max_freq, 87)\n",
    "search_range = np.where((freqs >= 10) & (freqs <= 33))[0]\n",
    "upto_gamma_band = np.array([8, 40])\n",
    "upto_gamma_range = np.where(\n",
    "    np.logical_and(freqs >= upto_gamma_band[0], freqs <= upto_gamma_band[1])\n",
    ")[0]\n",
    "\n",
    "bm = TfBursts(\n",
    "        fs,\n",
    "        freqs = freqs,\n",
    "        fr_band = upto_gamma_band,\n",
    "        band_search_range = upto_gamma_range,\n",
    "        band_limits=[8, 13, 30],\n",
    "        remove_fooof=False,\n",
    "    )\n",
    "\n",
    "bursts_all_results = bm.burst_extraction(\n",
    "    epochs=trials, band=\"beta\", std_noise=2, regress_ERF=False\n",
    ")"
   ]
  },
  {
   "cell_type": "markdown",
   "id": "2150ae11",
   "metadata": {},
   "source": [
    "Here we will combine burst features into a single data frame, and waveforms into a separate array. The first dimensions of the data frame and array are same, so boolean array based on e.g. \"sensor\" column can be used on the waveform array."
   ]
  },
  {
   "cell_type": "markdown",
   "id": "1e83e812",
   "metadata": {},
   "source": [
    "#### The PC scores can be analysed in many ways. Simple example here illustrates the principles of selecting the waveforms based on the dataframe. See the paper (https://doi.org/10.1016/j.pneurobio.2023.102490) for different ways the PC score was employed."
   ]
  },
  {
   "cell_type": "markdown",
   "id": "b1b8aacf",
   "metadata": {},
   "source": [
    "Here each burst PC score will be divided into quartiles and based on this selection, the average waveform from each quintile is going to be plotted."
   ]
  },
  {
   "cell_type": "code",
   "execution_count": null,
   "id": "bce7376d",
   "metadata": {},
   "outputs": [],
   "source": [
    "from betaburst.analysis.burst_analysis import BurstSpace\n",
    "\n",
    "bs = BurstSpace(perc=0.5, nb_quartiles=7, tmin = -1, tmax = 7, time_step = 0.2)\n",
    "scores_dists = bs.fit_transform(bursts_all_results)\n",
    "bs.plot_waveforms()"
   ]
  },
  {
   "cell_type": "markdown",
   "id": "ad71cc04",
   "metadata": {},
   "source": [
    "We can also plot heatmaps corresponding to the burst rates of each quartile and PC during time"
   ]
  },
  {
   "cell_type": "code",
   "execution_count": null,
   "id": "8bd8d0e7",
   "metadata": {},
   "outputs": [],
   "source": [
    "modulation_index, comp_waveforms = bs.dist_scores()\n",
    "bs.plot_burst_rates()"
   ]
  }
 ],
 "metadata": {
  "kernelspec": {
   "display_name": "Python 3 (ipykernel)",
   "language": "python",
   "name": "python3"
  },
  "language_info": {
   "codemirror_mode": {
    "name": "ipython",
    "version": 3
   },
   "file_extension": ".py",
   "mimetype": "text/x-python",
   "name": "python",
   "nbconvert_exporter": "python",
   "pygments_lexer": "ipython3",
   "version": "3.12.4"
  }
 },
 "nbformat": 4,
 "nbformat_minor": 5
}
